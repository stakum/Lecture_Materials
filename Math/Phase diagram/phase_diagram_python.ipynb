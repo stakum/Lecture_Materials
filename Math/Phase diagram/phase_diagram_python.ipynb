{
 "cells": [
  {
   "cell_type": "markdown",
   "id": "anticipated-messaging",
   "metadata": {},
   "source": [
    "#  相図のプロット\n",
    "Original code made by Prof. Kinefuchi\n",
    "$$\n",
    "\\begin{cases}\n",
    "    \\dot{x}_{1}=x_1-2x_2+1 \\\\\n",
    "    \\dot{x}_{2}=x_1-x_2+3\n",
    "\\end{cases}\n",
    "$$"
   ]
  },
  {
   "cell_type": "code",
   "execution_count": 1,
   "id": "received-hunter",
   "metadata": {},
   "outputs": [],
   "source": [
    "import numpy as np\n",
    "from scipy.integrate import solve_ivp\n",
    "import matplotlib.pyplot as plt"
   ]
  },
  {
   "cell_type": "markdown",
   "id": "funky-constant",
   "metadata": {},
   "source": [
    "## 微分方程式の定義"
   ]
  },
  {
   "cell_type": "code",
   "execution_count": 2,
   "id": "excellent-texas",
   "metadata": {},
   "outputs": [],
   "source": [
    "# Ridht-hand side of the differential equation\n",
    "def rhs(t,x):\n",
    "    dx1 = x[0] - 2.0 * x[1] + 1.0\n",
    "    dx2 = x[0] - x[1] + 3.0\n",
    "    dxdt = [dx1,dx2]\n",
    "    return dxdt"
   ]
  },
  {
   "cell_type": "markdown",
   "id": "stunning-steal",
   "metadata": {},
   "source": [
    "## 初期値の設定"
   ]
  },
  {
   "cell_type": "code",
   "execution_count": 3,
   "id": "stylish-water",
   "metadata": {},
   "outputs": [],
   "source": [
    "# initial condition\n",
    "x_ini = [[-5,-7],[-5,-6],[-5,-5],[-5,-4],[-5,-3],[-5,-2],[-\n",
    "5,-1],[-5,0]]"
   ]
  },
  {
   "cell_type": "code",
   "execution_count": 4,
   "id": "fancy-sussex",
   "metadata": {},
   "outputs": [],
   "source": [
    "# Interval of integration\n",
    "t_span=[0,100]"
   ]
  },
  {
   "cell_type": "markdown",
   "id": "reduced-greek",
   "metadata": {},
   "source": [
    "## 微分方程式解法"
   ]
  },
  {
   "cell_type": "code",
   "execution_count": 5,
   "id": "ethical-browser",
   "metadata": {},
   "outputs": [
    {
     "data": {
      "image/png": "[encoded data removed]",
      "text/plain": [
       "<Figure size 432x288 with 1 Axes>"
      ]
     },
     "metadata": {
      "needs_background": "light"
     },
     "output_type": "display_data"
    }
   ],
   "source": [
    "# Integration for each initial condition\n",
    "for xi in x_ini:\n",
    "    sol = solve_ivp(rhs,t_span,xi,rtol=1e-10,atol=1e-10)\n",
    "    x1 = sol.y[0,:]\n",
    "    x2 = sol.y[1,:]\n",
    "    plt.plot(x1,x2,'b-')\n",
    "\n",
    "    # Figure\n",
    "plt.xlabel('x1')\n",
    "plt.ylabel('x2')\n",
    "plt.axis('equal')\n",
    "plt.show()"
   ]
  },
  {
   "cell_type": "code",
   "execution_count": null,
   "id": "arctic-florida",
   "metadata": {},
   "outputs": [],
   "source": []
  }
 ],
 "metadata": {
  "kernelspec": {
   "display_name": "Python 3",
   "language": "python",
   "name": "python3"
  },
  "language_info": {
   "codemirror_mode": {
    "name": "ipython",
    "version": 3
   },
   "file_extension": ".py",
   "mimetype": "text/x-python",
   "name": "python",
   "nbconvert_exporter": "python",
   "pygments_lexer": "ipython3",
   "version": "3.9.7"
  }
 },
 "nbformat": 4,
 "nbformat_minor": 5
}
